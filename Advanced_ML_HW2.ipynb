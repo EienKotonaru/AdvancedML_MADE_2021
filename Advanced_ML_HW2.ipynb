{
 "cells": [
  {
   "cell_type": "markdown",
   "metadata": {},
   "source": [
    "# Продвинутое машинное обучение\n",
    "## Домашнее задание 2"
   ]
  },
  {
   "cell_type": "code",
   "execution_count": 1,
   "metadata": {
    "id": "0JSUshLhT3fi"
   },
   "outputs": [],
   "source": [
    "import pickle as pkl\n",
    "from datetime import datetime\n",
    "from collections import defaultdict\n",
    "import numpy as np\n",
    "import pandas as pd\n",
    "\n",
    "from sklearn.linear_model import LogisticRegression, LinearRegression\n",
    "from scipy.stats import kendalltau, spearmanr\n",
    "\n",
    "\n",
    "from tqdm import tqdm"
   ]
  },
  {
   "cell_type": "code",
   "execution_count": 2,
   "metadata": {
    "id": "KTJRBD1QNWBy"
   },
   "outputs": [],
   "source": [
    "tournaments = pkl.load(open('tournaments.pkl', 'rb'))\n",
    "results = pkl.load(open('results.pkl', 'rb'))\n",
    "players = pkl.load(open('players.pkl', 'rb'))"
   ]
  },
  {
   "cell_type": "markdown",
   "metadata": {
    "id": "68H4in6Q4mhn"
   },
   "source": [
    "**1. Прочитайте и проанализируйте данные, выберите турниры, в которых есть данные о составах команд и повопросных результатах (поле mask в results.pkl). Для унификации предлагаю:**\n",
    " \n",
    "*   **взять в тренировочный набор турниры с dateStart из 2019 года;**\n",
    "*   **в тестовый — турниры с dateStart из 2020 года.**"
   ]
  },
  {
   "cell_type": "code",
   "execution_count": 4,
   "metadata": {
    "id": "iQivvFZdsvTD"
   },
   "outputs": [],
   "source": [
    "train = {\n",
    "    'player_id': [],\n",
    "    'player_name': [],\n",
    "    'player_rating': [],\n",
    "    \n",
    "    'team_id': [],\n",
    "    'team_position': [],\n",
    "    \n",
    "    'tournament_id': [],\n",
    "    'tournament_name': [],\n",
    "    'question_order': [],\n",
    "    'is_answered': []\n",
    "}\n",
    "test = {\n",
    "    'player_id': [],\n",
    "    'player_name': [],\n",
    "    'player_rating': [],\n",
    "    \n",
    "    'team_id': [],\n",
    "    'team_position': [],\n",
    "    \n",
    "    'tournament_id': [],\n",
    "    'tournament_name': [],\n",
    "    'question_order': [],\n",
    "    'is_answered': []\n",
    "}"
   ]
  },
  {
   "cell_type": "code",
   "execution_count": 5,
   "metadata": {
    "colab": {
     "base_uri": "https://localhost:8080/"
    },
    "id": "79lU2jn4CjFh",
    "outputId": "c642b3c2-ff93-4cd1-ae34-5fdec7647604"
   },
   "outputs": [
    {
     "name": "stderr",
     "output_type": "stream",
     "text": [
      "100%|██████████████████████████████████████████████████████████████████████████████| 5528/5528 [02:30<00:00, 36.71it/s]\n"
     ]
    }
   ],
   "source": [
    "for key, tournament in tqdm(tournaments.items(), position=0, leave=True):\n",
    "    not_defined_idxs = []\n",
    "    if datetime.fromisoformat(tournament['dateStart']).year not in [2019, 2020]:\n",
    "        continue\n",
    "    # Определим номера вопросов, где хотя бы у одной команды была метка '?' или 'X', чтобы исключить потом\n",
    "    for team_result in results[key]:\n",
    "        if 'mask' in team_result.keys():\n",
    "            if team_result['mask']:\n",
    "                for i, is_answered in enumerate(team_result['mask']):\n",
    "                    if is_answered in ['X', '?']:\n",
    "                        not_defined_idxs.append(i)\n",
    "    not_defined_idxs = np.unique(np.array(not_defined_idxs))\n",
    "\n",
    "    for team_result in results[key]:\n",
    "        for player in team_result['teamMembers']:\n",
    "            if 'mask' in team_result.keys():\n",
    "                if team_result['mask']:\n",
    "                    for i, is_answered in enumerate(team_result['mask']):\n",
    "                        if i not in not_defined_idxs:\n",
    "                            if datetime.fromisoformat(tournament['dateStart']).year == 2019:\n",
    "                                train['player_id'].append(player['player']['id'])\n",
    "                                train['player_name'].append(f\"{player['player']['surname']} {player['player']['name']} {player['player']['patronymic']}\")\n",
    "                                train['player_rating'].append(player['rating'])\n",
    "\n",
    "                                train['team_id'].append(team_result['team']['id'])\n",
    "                                train['team_position'].append(team_result['position'])\n",
    "\n",
    "                                train['tournament_id'].append(key)\n",
    "                                train['tournament_name'].append(tournament['name'])\n",
    "\n",
    "                                train['question_order'].append(i)\n",
    "                                train['is_answered'].append(int(team_result['mask'][i]))\n",
    "                                \n",
    "                            elif datetime.fromisoformat(tournament['dateStart']).year == 2020:\n",
    "                                test['player_id'].append(player['player']['id'])\n",
    "                                test['player_name'].append(f\"{player['player']['surname']} {player['player']['name']} {player['player']['patronymic']}\")\n",
    "                                test['player_rating'].append(player['rating'])\n",
    "\n",
    "                                test['team_id'].append(team_result['team']['id'])\n",
    "                                test['team_position'].append(team_result['position'])\n",
    "\n",
    "                                test['tournament_id'].append(key)\n",
    "                                test['tournament_name'].append(tournament['name'])\n",
    "\n",
    "                                test['question_order'].append(i)\n",
    "                                test['is_answered'].append(int(team_result['mask'][i]))"
   ]
  },
  {
   "cell_type": "code",
   "execution_count": 6,
   "metadata": {
    "id": "wgi10jO9NFfm"
   },
   "outputs": [],
   "source": [
    "train_df = pd.DataFrame(train)\n",
    "test_df = pd.DataFrame(test)"
   ]
  },
  {
   "cell_type": "code",
   "execution_count": 120,
   "metadata": {
    "id": "Enp5Xsd01Kac"
   },
   "outputs": [],
   "source": [
    "# train_df = pd.read_csv('train.csv')\n",
    "# test_df = pd.read_csv('test.csv')"
   ]
  },
  {
   "cell_type": "markdown",
   "metadata": {},
   "source": [
    "**2. Постройте baseline-модель на основе линейной или логистической регрессии, которая будет обучать рейтинг-лист игроков. Замечания и подсказки:**\n",
    "* **повопросные результаты — это фактически результаты броска монетки, и их предсказание скорее всего имеет отношение к бинарной классификации;**\n",
    "* **в разных турнирах вопросы совсем разного уровня сложности, поэтому модель должна это учитывать; скорее всего, модель должна будет явно обучать не только силу каждого игрока, но и сложность каждого вопроса;**\n",
    "* **для baseline-модели можно забыть о командах и считать, что повопросные результаты команды просто относятся к каждому из её игроков.**"
   ]
  },
  {
   "cell_type": "markdown",
   "metadata": {},
   "source": [
    "Обучим модель логистической регрессии на следующих атрибутах:\n",
    "* доля взятых игроком вопросов за все время от общего числа вопросов по всем отыгранным турнирам и количество отыгранных вопросов - для неявного учета в модели силы игрока;\n",
    "* доля игроков, взявших вопрос в текущем турнире об общего числа вопросов в турнире - для неявного учета сложности вопроса в рамках турнира."
   ]
  },
  {
   "cell_type": "code",
   "execution_count": 121,
   "metadata": {},
   "outputs": [],
   "source": [
    "train_par = train_df[['player_id', 'is_answered']]\\\n",
    "                    .groupby('player_id')\\\n",
    "                    .agg('mean').rename(columns={'is_answered': 'player_answer_rate'})\n",
    "train_tar = train_df[['tournament_id', 'is_answered']]\\\n",
    "                    .groupby('tournament_id')\\\n",
    "                    .agg('mean').rename(columns={'is_answered': 'tournament_answer_rate'})\n",
    "\n",
    "train_df = train_df.merge(train_par, how='left', left_on='player_id', right_index=True)\\\n",
    "                   .merge(train_tar, how='left', left_on='tournament_id', right_index=True)\\\n",
    "\n",
    "train_df['global_answer_rate'] = train_df['is_answered'].mean()"
   ]
  },
  {
   "cell_type": "code",
   "execution_count": 122,
   "metadata": {},
   "outputs": [],
   "source": [
    "X_train = train_df[['player_answer_rate', 'global_answer_rate', 'tournament_answer_rate']]\n",
    "y_train = train_df['is_answered']"
   ]
  },
  {
   "cell_type": "code",
   "execution_count": 123,
   "metadata": {},
   "outputs": [
    {
     "name": "stdout",
     "output_type": "stream",
     "text": [
      "Wall time: 40.2 s\n"
     ]
    },
    {
     "data": {
      "text/plain": [
       "LogisticRegression(n_jobs=-1)"
      ]
     },
     "execution_count": 123,
     "metadata": {},
     "output_type": "execute_result"
    }
   ],
   "source": [
    "%%time\n",
    "model = LogisticRegression(n_jobs=-1)\n",
    "model.fit(X_train, y_train)"
   ]
  },
  {
   "cell_type": "markdown",
   "metadata": {},
   "source": [
    "**3. Качество рейтинг-системы оценивается качеством предсказаний результатов турниров. Но сами повопросные результаты наши модели предсказывать вряд ли смогут, ведь неизвестно, насколько сложными окажутся вопросы в будущих турнирах; да и не нужны эти предсказания сами по себе. Поэтому:**\n",
    "* **предложите способ предсказать результаты нового турнира с известными составами, но неизвестными вопросами, в виде ранжирования команд;**\n",
    "* **в качестве метрики качества на тестовом наборе давайте считать ранговые корреляции Спирмена и Кендалла (их можно взять в пакете scipy) между реальным ранжированием в результатах турнира и предсказанным моделью, усреднённые по тестовому множеству турниров.**"
   ]
  },
  {
   "cell_type": "markdown",
   "metadata": {},
   "source": [
    "Для предсказания результатов турнира с неизвестными вопросами предлагается создание искусственных турниров из 36 вопросов с частотой взятий от \"гроба\", до \"свечки\", увеличивающейся с фиксированным шагом.\n",
    "Рейтинг команды будет определяться как сумма вероятностей ответа команды на каждый вопрос в турнире.\n",
    "Вероятность ответа на один вопрос: $1 - \\Pi_{i \\in k}(1 - pr_{i})$\n",
    ", где $pr_{i}$ - предсказанная моделью вероятность игрока i из команды k ответить на текущий вопрос"
   ]
  },
  {
   "cell_type": "code",
   "execution_count": 124,
   "metadata": {},
   "outputs": [],
   "source": [
    "def estimate_quality():\n",
    "    test_df_train = test_df[test_df['player_id'].isin(train_df['player_id'].unique())]\n",
    "    test_teams = test_df_train[['player_id', 'team_id', 'tournament_id', 'team_position']].drop_duplicates()\n",
    "\n",
    "    generated_test = {\n",
    "        'player_id': [], \n",
    "        'team_id': [], \n",
    "        'tournament_id': [], \n",
    "        'team_position': [],\n",
    "        'question_order': [],\n",
    "        'tournament_answer_rate': []\n",
    "    }\n",
    "    for row in test_teams.iterrows():\n",
    "        for i in range(36):\n",
    "            generated_test['player_id'].append(row[1]['player_id'])\n",
    "            generated_test['team_id'].append(row[1]['team_id'])\n",
    "            generated_test['tournament_id'].append(row[1]['tournament_id'])\n",
    "            generated_test['team_position'].append(row[1]['team_position'])\n",
    "            generated_test['question_order'].append(i)\n",
    "            generated_test['tournament_answer_rate'].append(i * 1/35)\n",
    "\n",
    "\n",
    "    generated_test_df = pd.DataFrame(generated_test)\\\n",
    "                    .merge(train_df[['player_id', 'player_answer_rate', 'global_answer_rate']].drop_duplicates(),\n",
    "                           how='left', on='player_id')\n",
    "    if str(type(model)).find('LinearRegression') != -1:\n",
    "        generated_test_df['predict'] = predict(model, generated_test_df[['player_answer_rate', 'global_answer_rate', \n",
    "                                                            'tournament_answer_rate']])\n",
    "    else:\n",
    "        generated_test_df['predict'] = model.predict_proba(generated_test_df[['player_answer_rate', 'global_answer_rate', \n",
    "                                                            'tournament_answer_rate']])[:, 1]\n",
    "    generated_test_df['predict_inv'] = 1 - generated_test_df['predict']\n",
    "\n",
    "    ranks = generated_test_df[['team_id', 'tournament_id', 'question_order', 'predict_inv', 'team_position']]\\\n",
    "                     .groupby(['team_id', 'tournament_id', 'question_order', 'team_position']).agg('prod')\\\n",
    "                     .groupby(['team_id', 'tournament_id', 'team_position']).agg('sum').reset_index()\n",
    "\n",
    "    ranks['predict_inv'] = 1 - ranks['predict_inv']\n",
    "    ranks['rank'] = ranks.groupby('tournament_id')['predict_inv'].rank(\"dense\", ascending=False)\n",
    "\n",
    "    sp_corrs, kend_corrs = [], []\n",
    "    for tournament_id in ranks['tournament_id'].unique():\n",
    "        tournament_res = ranks[ranks['tournament_id'] == tournament_id]\n",
    "        kend_corr = kendalltau(tournament_res['rank'], tournament_res['team_position'])[0]\n",
    "        sp_corr = spearmanr(tournament_res['rank'], tournament_res['team_position'])[0]\n",
    "        if sp_corr != 'nan' and kend_corr != np.nan:\n",
    "            kend_corrs.append(kend_corr)\n",
    "            sp_corrs.append(sp_corr)\n",
    "\n",
    "    sp_corrs, kend_corrs = np.array(sp_corrs), np.array(kend_corrs)\n",
    "\n",
    "    sp_corrs = sp_corrs[~np.isnan(sp_corrs)]\n",
    "    kend_corrs = kend_corrs[~np.isnan(kend_corrs)]\n",
    "\n",
    "    print(f\"Корреляция Спирмена: {np.array(sp_corrs).mean()}\")\n",
    "    print(f\"Корреляция Кендалла: {np.array(kend_corrs).mean()}\")"
   ]
  },
  {
   "cell_type": "code",
   "execution_count": 125,
   "metadata": {},
   "outputs": [
    {
     "name": "stdout",
     "output_type": "stream",
     "text": [
      "Корреляция Спирмена: 0.6971294578149314\n",
      "Корреляция Кендалла: 0.5413885756876532\n"
     ]
    }
   ],
   "source": [
    "estimate_quality()"
   ]
  },
  {
   "cell_type": "markdown",
   "metadata": {},
   "source": [
    "**4. Теперь главное: ЧГК — это всё-таки командная игра. Поэтому:**\n",
    "* **предложите способ учитывать то, что на вопрос отвечают сразу несколько игроков; скорее всего, понадобятся скрытые переменные; не стесняйтесь делать упрощающие предположения, но теперь переменные “игрок X ответил на вопрос Y” при условии данных должны стать зависимыми для игроков одной и той же команды;**\n",
    "* **разработайте EM-схему для обучения этой модели, реализуйте её в коде;**\n",
    "* **обучите несколько итераций, убедитесь, что целевые метрики со временем растут (скорее всего, ненамного, но расти должны), выберите лучшую модель, используя целевые метрики.**"
   ]
  },
  {
   "cell_type": "markdown",
   "metadata": {},
   "source": [
    "Пусть $z_{ij}$ - скрытая переменная, ответил ли i-ый игрок на j-ый вопрос, $y_{kj}$ - видимая переменная, ответила ли k-ая команда на j-ый вопрос.\n",
    "\n",
    "Тогда на E-шаге предлагается проводить следующее обновление:\n",
    "1. Если $y_{kj} = 0$, то $E[z_{ij}] = 0$ для всех $i \\in k$\n",
    "2. Если $y_{kj} \\neq 0$, то $E[z_{ij}]$ = p(ответил игрок|команда ответила) = p(команда ответила|ответил игрок) * p(ответил игрок) / p(команда ответила) = $=\\frac{1 * pr_i}{1 - \\Pi_{i \\in k}(1 - pr_{i})}$\n",
    ", где $pr_{i}$ - предсказанная моделью вероятность игрока i из команды k ответить на текущий вопрос"
   ]
  },
  {
   "cell_type": "code",
   "execution_count": 126,
   "metadata": {},
   "outputs": [],
   "source": [
    "def fit_model(lr, X_train, y_train):\n",
    "    y = y_train.copy(deep=True)\n",
    "\n",
    "    y = np.clip(y, 1e-8, 1 - 1e-8)\n",
    "    inv_sig_y = np.log(y / (1 - y))\n",
    "\n",
    "    lr.fit(X_train, inv_sig_y)\n",
    "    return lr\n",
    "\n",
    "def sigmoid(x):\n",
    "    ex = np.exp(x)\n",
    "    return ex / (1 + ex)\n",
    "\n",
    "def predict(lr, X_test):\n",
    "    return sigmoid(lr.predict(X_test))"
   ]
  },
  {
   "cell_type": "code",
   "execution_count": 127,
   "metadata": {},
   "outputs": [],
   "source": [
    "X_train = train_df[['player_answer_rate', 'global_answer_rate', 'tournament_answer_rate']]\n",
    "y_train = train_df['is_answered']"
   ]
  },
  {
   "cell_type": "code",
   "execution_count": 128,
   "metadata": {},
   "outputs": [
    {
     "data": {
      "text/plain": [
       "sklearn.linear_model._logistic.LogisticRegression"
      ]
     },
     "execution_count": 128,
     "metadata": {},
     "output_type": "execute_result"
    }
   ],
   "source": [
    "type(model)"
   ]
  },
  {
   "cell_type": "code",
   "execution_count": 129,
   "metadata": {},
   "outputs": [],
   "source": [
    "def m_step():\n",
    "    lr = LinearRegression(n_jobs=-1)\n",
    "    lr = fit_model(lr, X_train, y_train)\n",
    "    train_df['predicted_proba'] = predict(lr, X_train)\n",
    "    return lr"
   ]
  },
  {
   "cell_type": "code",
   "execution_count": 130,
   "metadata": {},
   "outputs": [],
   "source": [
    "def e_step():\n",
    "    train_df['inv_predicted_proba'] = 1 - train_df['predicted_proba']\n",
    "    new_target = train_df[['tournament_id', 'team_id', 'inv_predicted_proba', 'question_order']].groupby(['tournament_id', 'team_id', 'question_order'])\\\n",
    "                            .agg('prod').reset_index().rename(columns={'inv_predicted_proba': 'new_target'})\n",
    "    new_target['new_target'] = 1 - new_target['new_target']\n",
    "    new_target = new_target.merge(train_df[['tournament_id', 'team_id', 'is_answered', 'question_order', 'predicted_proba']], how='left', \n",
    "                                  on=['tournament_id', 'team_id', 'question_order'])\n",
    "    new_target['new_target'] = new_target['predicted_proba'] / new_target['new_target']\n",
    "    new_target.loc[new_target['is_answered'] == 0, 'new_target'] = 0\n",
    "    return new_target['new_target']"
   ]
  },
  {
   "cell_type": "code",
   "execution_count": 131,
   "metadata": {},
   "outputs": [
    {
     "name": "stdout",
     "output_type": "stream",
     "text": [
      "Шаг 1\n",
      "Корреляция Спирмена: 0.7054783328994335\n",
      "Корреляция Кендалла: 0.5506333528396041\n",
      "\n",
      "Шаг 2\n",
      "Корреляция Спирмена: 0.7263175967489377\n",
      "Корреляция Кендалла: 0.5708722128802382\n",
      "\n",
      "Шаг 3\n",
      "Корреляция Спирмена: 0.7225698721683754\n",
      "Корреляция Кендалла: 0.5663719574558114\n",
      "\n",
      "Шаг 4\n",
      "Корреляция Спирмена: 0.7226062919124588\n",
      "Корреляция Кендалла: 0.5663956396781781\n",
      "\n",
      "Шаг 5\n",
      "Корреляция Спирмена: 0.7226062910722402\n",
      "Корреляция Кендалла: 0.5663956270750027\n",
      "\n"
     ]
    }
   ],
   "source": [
    "for i in range(5):\n",
    "    print(f\"Шаг {i+1}\")\n",
    "    model = m_step()\n",
    "    y_train = e_step()\n",
    "    estimate_quality()\n",
    "    print()"
   ]
  },
  {
   "cell_type": "markdown",
   "metadata": {},
   "source": [
    "## Результат\n",
    "\n",
    "По сравнению с результатами baseline'a (см. п. 3):\n",
    "\n",
    "* Корреляция Спирмена: 0.6971294578149314\n",
    "* Корреляция Кендалла: 0.5413885756876532\n",
    "\n",
    "качество модели, обученной с помощью EM-схемы, увеличилось до:\n",
    "\n",
    "* Корреляция Спирмена: 0.7226062910722402\n",
    "* Корреляция Кендалла: 0.5663956270750027"
   ]
  },
  {
   "cell_type": "markdown",
   "metadata": {},
   "source": [
    "**5. А что там с вопросами? Постройте “рейтинг-лист” турниров по сложности вопросов. Соответствует ли он интуиции (например, на чемпионате мира в целом должны быть сложные вопросы, а на турнирах для школьников — простые)?**"
   ]
  },
  {
   "cell_type": "markdown",
   "metadata": {},
   "source": [
    "Для формирования рейтинга турнира на основе полученных с помощью моделей вероятностей *игрока* ответить на вопрос рассчитаем вероятности *команды* не ответить на вопрос.\n",
    "\n",
    "Добавим все команды к каждому турниру.\n",
    "Итоговый рейтинг турнира будет рассчитан как средняя вероятность всех команд ответить на каждый вопрос турнира. Чем ниже эта вероятность, тем выше сложность турнира."
   ]
  },
  {
   "cell_type": "code",
   "execution_count": 181,
   "metadata": {},
   "outputs": [],
   "source": [
    "all_teams = train_df[['team_id', 'player_answer_rate', 'global_answer_rate', 'tournament_answer_rate']].drop_duplicates()\n",
    "all_tournaments = train_df[['question_order', 'tournament_answer_rate', 'tournament_id', 'tournament_name']].drop_duplicates()"
   ]
  },
  {
   "cell_type": "code",
   "execution_count": 182,
   "metadata": {},
   "outputs": [],
   "source": [
    "all_stars_tour = all_teams.merge(all_tournaments, how='outer')"
   ]
  },
  {
   "cell_type": "code",
   "execution_count": 183,
   "metadata": {},
   "outputs": [],
   "source": [
    "all_stars_tour['predict'] = predict(model, all_stars_tour[['player_answer_rate', 'global_answer_rate', 'tournament_answer_rate']])\n",
    "all_stars_tour['inv_predict'] = 1 - all_stars_tour['predict']"
   ]
  },
  {
   "cell_type": "code",
   "execution_count": 184,
   "metadata": {},
   "outputs": [],
   "source": [
    "tournaments_rating = all_stars_tour[['team_id', 'tournament_id', 'question_order', 'inv_predict', 'tournament_name']]\\\n",
    "                 .groupby(['team_id', 'tournament_id', 'question_order', 'tournament_name']).agg('prod').reset_index()\n",
    "\n",
    "tournaments_rating['inv_predict'] = 1 - tournaments_rating['inv_predict']\n",
    "tournaments_rating = tournaments_rating[['tournament_id', 'inv_predict', 'tournament_name']]\\\n",
    "                         .groupby(['tournament_id', 'tournament_name']).agg('mean')"
   ]
  },
  {
   "cell_type": "code",
   "execution_count": 187,
   "metadata": {},
   "outputs": [
    {
     "data": {
      "text/html": [
       "<div>\n",
       "<style scoped>\n",
       "    .dataframe tbody tr th:only-of-type {\n",
       "        vertical-align: middle;\n",
       "    }\n",
       "\n",
       "    .dataframe tbody tr th {\n",
       "        vertical-align: top;\n",
       "    }\n",
       "\n",
       "    .dataframe thead th {\n",
       "        text-align: right;\n",
       "    }\n",
       "</style>\n",
       "<table border=\"1\" class=\"dataframe\">\n",
       "  <thead>\n",
       "    <tr style=\"text-align: right;\">\n",
       "      <th></th>\n",
       "      <th></th>\n",
       "      <th>inv_predict</th>\n",
       "    </tr>\n",
       "    <tr>\n",
       "      <th>tournament_id</th>\n",
       "      <th>tournament_name</th>\n",
       "      <th></th>\n",
       "    </tr>\n",
       "  </thead>\n",
       "  <tbody>\n",
       "    <tr>\n",
       "      <th>5717</th>\n",
       "      <th>Чемпионат Таджикистана</th>\n",
       "      <td>8.012896e-08</td>\n",
       "    </tr>\n",
       "    <tr>\n",
       "      <th>6149</th>\n",
       "      <th>Чемпионат Санкт-Петербурга. Первая лига</th>\n",
       "      <td>1.592080e-07</td>\n",
       "    </tr>\n",
       "    <tr>\n",
       "      <th>5564</th>\n",
       "      <th>Молодёжный чемпионат Нижегородской области</th>\n",
       "      <td>3.863926e-07</td>\n",
       "    </tr>\n",
       "    <tr>\n",
       "      <th>5599</th>\n",
       "      <th>Чемпионат Туркменистана</th>\n",
       "      <td>4.215193e-07</td>\n",
       "    </tr>\n",
       "    <tr>\n",
       "      <th>5976</th>\n",
       "      <th>Открытый Студенческий чемпионат Краснодарского края</th>\n",
       "      <td>4.262957e-07</td>\n",
       "    </tr>\n",
       "  </tbody>\n",
       "</table>\n",
       "</div>"
      ],
      "text/plain": [
       "                                                                   inv_predict\n",
       "tournament_id tournament_name                                                 \n",
       "5717          Чемпионат Таджикистана                              8.012896e-08\n",
       "6149          Чемпионат Санкт-Петербурга. Первая лига             1.592080e-07\n",
       "5564          Молодёжный чемпионат Нижегородской области          3.863926e-07\n",
       "5599          Чемпионат Туркменистана                             4.215193e-07\n",
       "5976          Открытый Студенческий чемпионат Краснодарского ...  4.262957e-07"
      ]
     },
     "execution_count": 187,
     "metadata": {},
     "output_type": "execute_result"
    }
   ],
   "source": [
    "tournaments_rating.sort_values('inv_predict').head(5)"
   ]
  },
  {
   "cell_type": "code",
   "execution_count": 188,
   "metadata": {},
   "outputs": [
    {
     "data": {
      "text/html": [
       "<div>\n",
       "<style scoped>\n",
       "    .dataframe tbody tr th:only-of-type {\n",
       "        vertical-align: middle;\n",
       "    }\n",
       "\n",
       "    .dataframe tbody tr th {\n",
       "        vertical-align: top;\n",
       "    }\n",
       "\n",
       "    .dataframe thead th {\n",
       "        text-align: right;\n",
       "    }\n",
       "</style>\n",
       "<table border=\"1\" class=\"dataframe\">\n",
       "  <thead>\n",
       "    <tr style=\"text-align: right;\">\n",
       "      <th></th>\n",
       "      <th></th>\n",
       "      <th>inv_predict</th>\n",
       "    </tr>\n",
       "    <tr>\n",
       "      <th>tournament_id</th>\n",
       "      <th>tournament_name</th>\n",
       "      <th></th>\n",
       "    </tr>\n",
       "  </thead>\n",
       "  <tbody>\n",
       "    <tr>\n",
       "      <th>6115</th>\n",
       "      <th>Чемпионат МГУ. Высшая лига. Второй игровой день</th>\n",
       "      <td>0.005944</td>\n",
       "    </tr>\n",
       "    <tr>\n",
       "      <th>5540</th>\n",
       "      <th>Регулярный чемпионат МГУ. Высшая лига. Третий игровой день</th>\n",
       "      <td>0.006828</td>\n",
       "    </tr>\n",
       "    <tr>\n",
       "      <th>6003</th>\n",
       "      <th>Второй тематический турнир имени Джоуи Триббиани</th>\n",
       "      <td>0.018090</td>\n",
       "    </tr>\n",
       "    <tr>\n",
       "      <th>5963</th>\n",
       "      <th>Асинхрон по South Park</th>\n",
       "      <td>0.030921</td>\n",
       "    </tr>\n",
       "    <tr>\n",
       "      <th>5438</th>\n",
       "      <th>Синхрон Лиги Разума</th>\n",
       "      <td>0.031178</td>\n",
       "    </tr>\n",
       "  </tbody>\n",
       "</table>\n",
       "</div>"
      ],
      "text/plain": [
       "                                                                  inv_predict\n",
       "tournament_id tournament_name                                                \n",
       "6115          Чемпионат МГУ. Высшая лига. Второй игровой день        0.005944\n",
       "5540          Регулярный чемпионат МГУ. Высшая лига. Третий и...     0.006828\n",
       "6003          Второй тематический турнир имени Джоуи Триббиани       0.018090\n",
       "5963          Асинхрон по South Park                                 0.030921\n",
       "5438          Синхрон Лиги Разума                                    0.031178"
      ]
     },
     "execution_count": 188,
     "metadata": {},
     "output_type": "execute_result"
    }
   ],
   "source": [
    "tournaments_rating.sort_values('inv_predict').tail(5)"
   ]
  },
  {
   "cell_type": "code",
   "execution_count": null,
   "metadata": {},
   "outputs": [],
   "source": []
  }
 ],
 "metadata": {
  "colab": {
   "collapsed_sections": [],
   "name": "Advanced_ML_HW2.ipynb",
   "provenance": []
  },
  "hide_input": false,
  "kernelspec": {
   "display_name": "Python 3",
   "language": "python",
   "name": "python3"
  },
  "language_info": {
   "codemirror_mode": {
    "name": "ipython",
    "version": 3
   },
   "file_extension": ".py",
   "mimetype": "text/x-python",
   "name": "python",
   "nbconvert_exporter": "python",
   "pygments_lexer": "ipython3",
   "version": "3.7.6"
  }
 },
 "nbformat": 4,
 "nbformat_minor": 1
}
